{
 "cells": [
  {
   "cell_type": "code",
   "execution_count": 15,
   "id": "cbd485d0",
   "metadata": {},
   "outputs": [
    {
     "name": "stdout",
     "output_type": "stream",
     "text": [
      "Enter the 1st Number:10\n",
      "Enter the 2nd Number:5\n",
      "end\n"
     ]
    },
    {
     "data": {
      "text/plain": [
       "2.0"
      ]
     },
     "execution_count": 15,
     "metadata": {},
     "output_type": "execute_result"
    }
   ],
   "source": [
    "#1. Write a function to compute 5/0 and use try/except to catch the exceptions\n",
    "\n",
    "def divide():\n",
    "    try:\n",
    "        a=int(input('Enter the 1st Number:'))\n",
    "        \n",
    "        b=int(input('Enter the 2nd Number:'))\n",
    "        c=float(a/b)\n",
    "        return c\n",
    "    except ValueError as ve:\n",
    "        print('enter the proper integer value')\n",
    "        print(ValueError)\n",
    "        \n",
    "    except IOError as io:\n",
    "        print('Error in input has occured')\n",
    "        print('IOError')\n",
    "        \n",
    "    except ZeroDivisionError as zero:\n",
    "        print('ans is infinite')\n",
    "        print(ZeroDivisionError)\n",
    "        \n",
    "    else:\n",
    "        print('different error')\n",
    "        \n",
    "    finally:\n",
    "        print('end')\n",
    "        \n",
    "divide()        \n",
    "        \n",
    "        \n"
   ]
  },
  {
   "cell_type": "code",
   "execution_count": 30,
   "id": "c5a54f1a",
   "metadata": {},
   "outputs": [
    {
     "name": "stdout",
     "output_type": "stream",
     "text": [
      "Americans play Baseball\n",
      "Americans play Cricket\n",
      "Americans watch Baseball\n",
      "Americans watch Cricket\n",
      "Indians play Baseball\n",
      "Indians play Cricket\n",
      "Indians watch Baseball\n",
      "Indians watch Cricket\n"
     ]
    }
   ],
   "source": [
    "# 2. Implement a Python program to generate all sentences where subject is in \n",
    "\n",
    "\n",
    "\n",
    "subjects=['Americans','Indians']\n",
    "verbs=['play','watch']\n",
    "objects=['Baseball','Cricket']\n",
    "\n",
    "for i in subjects:\n",
    "    for j in verbs:\n",
    "        for k in objects:\n",
    "            print(i+\" \"+j+\" \"+k )"
   ]
  },
  {
   "cell_type": "markdown",
   "id": "959d253d",
   "metadata": {},
   "source": []
  },
  {
   "cell_type": "code",
   "execution_count": null,
   "id": "8ba735f3",
   "metadata": {},
   "outputs": [],
   "source": []
  }
 ],
 "metadata": {
  "kernelspec": {
   "display_name": "Python 3",
   "language": "python",
   "name": "python3"
  },
  "language_info": {
   "codemirror_mode": {
    "name": "ipython",
    "version": 3
   },
   "file_extension": ".py",
   "mimetype": "text/x-python",
   "name": "python",
   "nbconvert_exporter": "python",
   "pygments_lexer": "ipython3",
   "version": "3.8.8"
  }
 },
 "nbformat": 4,
 "nbformat_minor": 5
}
